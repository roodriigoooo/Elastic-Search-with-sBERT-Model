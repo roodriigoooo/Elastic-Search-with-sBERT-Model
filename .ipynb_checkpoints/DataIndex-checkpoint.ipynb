{
 "cells": [
  {
   "cell_type": "code",
   "execution_count": 2,
   "metadata": {},
   "outputs": [],
   "source": [
    "import pandas as pd\n",
    "from elasticsearch import Elasticsearch"
   ]
  },
  {
   "cell_type": "code",
   "execution_count": 38,
   "metadata": {},
   "outputs": [
    {
     "data": {
      "text/plain": [
       "True"
      ]
     },
     "execution_count": 38,
     "metadata": {},
     "output_type": "execute_result"
    }
   ],
   "source": [
    "elastics = Elasticsearch(\n",
    "    \"http://localhost:9200\",\n",
    "    basic_auth=(\"junior\", \"Olamilekan02@\"),\n",
    "    #verify_certs=False \n",
    ")\n",
    "\n",
    "elastics.ping()"
   ]
  },
  {
   "cell_type": "code",
   "execution_count": 26,
   "metadata": {},
   "outputs": [
    {
     "data": {
      "text/html": [
       "<div>\n",
       "<style scoped>\n",
       "    .dataframe tbody tr th:only-of-type {\n",
       "        vertical-align: middle;\n",
       "    }\n",
       "\n",
       "    .dataframe tbody tr th {\n",
       "        vertical-align: top;\n",
       "    }\n",
       "\n",
       "    .dataframe thead th {\n",
       "        text-align: right;\n",
       "    }\n",
       "</style>\n",
       "<table border=\"1\" class=\"dataframe\">\n",
       "  <thead>\n",
       "    <tr style=\"text-align: right;\">\n",
       "      <th></th>\n",
       "      <th>ProductID</th>\n",
       "      <th>ProductName</th>\n",
       "      <th>ProductBrand</th>\n",
       "      <th>Gender</th>\n",
       "      <th>Price (INR)</th>\n",
       "      <th>NumImages</th>\n",
       "      <th>Description</th>\n",
       "      <th>PrimaryColor</th>\n",
       "    </tr>\n",
       "  </thead>\n",
       "  <tbody>\n",
       "    <tr>\n",
       "      <th>0</th>\n",
       "      <td>10017413</td>\n",
       "      <td>DKNY Unisex Black &amp; Grey Printed Medium Trolle...</td>\n",
       "      <td>DKNY</td>\n",
       "      <td>Unisex</td>\n",
       "      <td>11745</td>\n",
       "      <td>7</td>\n",
       "      <td>Black and grey printed medium trolley bag, sec...</td>\n",
       "      <td>Black</td>\n",
       "    </tr>\n",
       "    <tr>\n",
       "      <th>1</th>\n",
       "      <td>10016283</td>\n",
       "      <td>EthnoVogue Women Beige &amp; Grey Made to Measure ...</td>\n",
       "      <td>EthnoVogue</td>\n",
       "      <td>Women</td>\n",
       "      <td>5810</td>\n",
       "      <td>7</td>\n",
       "      <td>Beige &amp; Grey made to measure kurta with churid...</td>\n",
       "      <td>Beige</td>\n",
       "    </tr>\n",
       "    <tr>\n",
       "      <th>2</th>\n",
       "      <td>10009781</td>\n",
       "      <td>SPYKAR Women Pink Alexa Super Skinny Fit High-...</td>\n",
       "      <td>SPYKAR</td>\n",
       "      <td>Women</td>\n",
       "      <td>899</td>\n",
       "      <td>7</td>\n",
       "      <td>Pink coloured wash 5-pocket high-rise cropped ...</td>\n",
       "      <td>Pink</td>\n",
       "    </tr>\n",
       "    <tr>\n",
       "      <th>3</th>\n",
       "      <td>10015921</td>\n",
       "      <td>Raymond Men Blue Self-Design Single-Breasted B...</td>\n",
       "      <td>Raymond</td>\n",
       "      <td>Men</td>\n",
       "      <td>5599</td>\n",
       "      <td>5</td>\n",
       "      <td>Blue self-design bandhgala suitBlue self-desig...</td>\n",
       "      <td>Blue</td>\n",
       "    </tr>\n",
       "    <tr>\n",
       "      <th>4</th>\n",
       "      <td>10017833</td>\n",
       "      <td>Parx Men Brown &amp; Off-White Slim Fit Printed Ca...</td>\n",
       "      <td>Parx</td>\n",
       "      <td>Men</td>\n",
       "      <td>759</td>\n",
       "      <td>5</td>\n",
       "      <td>Brown and off-white printed casual shirt, has ...</td>\n",
       "      <td>White</td>\n",
       "    </tr>\n",
       "  </tbody>\n",
       "</table>\n",
       "</div>"
      ],
      "text/plain": [
       "   ProductID                                        ProductName ProductBrand  \\\n",
       "0   10017413  DKNY Unisex Black & Grey Printed Medium Trolle...         DKNY   \n",
       "1   10016283  EthnoVogue Women Beige & Grey Made to Measure ...   EthnoVogue   \n",
       "2   10009781  SPYKAR Women Pink Alexa Super Skinny Fit High-...       SPYKAR   \n",
       "3   10015921  Raymond Men Blue Self-Design Single-Breasted B...      Raymond   \n",
       "4   10017833  Parx Men Brown & Off-White Slim Fit Printed Ca...         Parx   \n",
       "\n",
       "   Gender  Price (INR)  NumImages  \\\n",
       "0  Unisex        11745          7   \n",
       "1   Women         5810          7   \n",
       "2   Women          899          7   \n",
       "3     Men         5599          5   \n",
       "4     Men          759          5   \n",
       "\n",
       "                                         Description PrimaryColor  \n",
       "0  Black and grey printed medium trolley bag, sec...        Black  \n",
       "1  Beige & Grey made to measure kurta with churid...        Beige  \n",
       "2  Pink coloured wash 5-pocket high-rise cropped ...         Pink  \n",
       "3  Blue self-design bandhgala suitBlue self-desig...         Blue  \n",
       "4  Brown and off-white printed casual shirt, has ...        White  "
      ]
     },
     "execution_count": 26,
     "metadata": {},
     "output_type": "execute_result"
    }
   ],
   "source": [
    "df = pd.read_csv(\"myntra_products_catalog.csv\")\n",
    "df.head()"
   ]
  },
  {
   "cell_type": "code",
   "execution_count": 27,
   "metadata": {},
   "outputs": [],
   "source": [
    "df.fillna('None', inplace=True)"
   ]
  },
  {
   "cell_type": "code",
   "execution_count": 5,
   "metadata": {},
   "outputs": [
    {
     "name": "stderr",
     "output_type": "stream",
     "text": [
      "g:\\Helpful engineering\\helpful\\Lib\\site-packages\\transformers\\tokenization_utils_base.py:1617: FutureWarning: `clean_up_tokenization_spaces` was not set. It will be set to `True` by default. This behavior will be deprecated in transformers v4.45, and will be then set to `False` by default. For more details check this issue: https://github.com/huggingface/transformers/issues/31884\n",
      "  warnings.warn(\n"
     ]
    }
   ],
   "source": [
    "from sentence_transformers import SentenceTransformer\n",
    "model = SentenceTransformer(\"all-mpnet-base-v2\")"
   ]
  },
  {
   "cell_type": "code",
   "execution_count": 28,
   "metadata": {},
   "outputs": [],
   "source": [
    "df[\"VectorDescription\"] = df[\"Description\"].apply(lambda x: model.encode(x))"
   ]
  },
  {
   "cell_type": "code",
   "execution_count": 29,
   "metadata": {},
   "outputs": [
    {
     "data": {
      "text/html": [
       "<div>\n",
       "<style scoped>\n",
       "    .dataframe tbody tr th:only-of-type {\n",
       "        vertical-align: middle;\n",
       "    }\n",
       "\n",
       "    .dataframe tbody tr th {\n",
       "        vertical-align: top;\n",
       "    }\n",
       "\n",
       "    .dataframe thead th {\n",
       "        text-align: right;\n",
       "    }\n",
       "</style>\n",
       "<table border=\"1\" class=\"dataframe\">\n",
       "  <thead>\n",
       "    <tr style=\"text-align: right;\">\n",
       "      <th></th>\n",
       "      <th>ProductID</th>\n",
       "      <th>ProductName</th>\n",
       "      <th>ProductBrand</th>\n",
       "      <th>Gender</th>\n",
       "      <th>Price (INR)</th>\n",
       "      <th>NumImages</th>\n",
       "      <th>Description</th>\n",
       "      <th>PrimaryColor</th>\n",
       "      <th>VectorDescription</th>\n",
       "    </tr>\n",
       "  </thead>\n",
       "  <tbody>\n",
       "    <tr>\n",
       "      <th>0</th>\n",
       "      <td>10017413</td>\n",
       "      <td>DKNY Unisex Black &amp; Grey Printed Medium Trolle...</td>\n",
       "      <td>DKNY</td>\n",
       "      <td>Unisex</td>\n",
       "      <td>11745</td>\n",
       "      <td>7</td>\n",
       "      <td>Black and grey printed medium trolley bag, sec...</td>\n",
       "      <td>Black</td>\n",
       "      <td>[0.027645895, -0.0026341735, -0.00358841, 0.05...</td>\n",
       "    </tr>\n",
       "    <tr>\n",
       "      <th>1</th>\n",
       "      <td>10016283</td>\n",
       "      <td>EthnoVogue Women Beige &amp; Grey Made to Measure ...</td>\n",
       "      <td>EthnoVogue</td>\n",
       "      <td>Women</td>\n",
       "      <td>5810</td>\n",
       "      <td>7</td>\n",
       "      <td>Beige &amp; Grey made to measure kurta with churid...</td>\n",
       "      <td>Beige</td>\n",
       "      <td>[-0.02466071, -0.028755346, -0.0203325, 0.0340...</td>\n",
       "    </tr>\n",
       "    <tr>\n",
       "      <th>2</th>\n",
       "      <td>10009781</td>\n",
       "      <td>SPYKAR Women Pink Alexa Super Skinny Fit High-...</td>\n",
       "      <td>SPYKAR</td>\n",
       "      <td>Women</td>\n",
       "      <td>899</td>\n",
       "      <td>7</td>\n",
       "      <td>Pink coloured wash 5-pocket high-rise cropped ...</td>\n",
       "      <td>Pink</td>\n",
       "      <td>[-0.046943247, 0.081827976, 0.048335172, -0.00...</td>\n",
       "    </tr>\n",
       "    <tr>\n",
       "      <th>3</th>\n",
       "      <td>10015921</td>\n",
       "      <td>Raymond Men Blue Self-Design Single-Breasted B...</td>\n",
       "      <td>Raymond</td>\n",
       "      <td>Men</td>\n",
       "      <td>5599</td>\n",
       "      <td>5</td>\n",
       "      <td>Blue self-design bandhgala suitBlue self-desig...</td>\n",
       "      <td>Blue</td>\n",
       "      <td>[-0.015098725, -0.010285386, 0.0094872955, -0....</td>\n",
       "    </tr>\n",
       "    <tr>\n",
       "      <th>4</th>\n",
       "      <td>10017833</td>\n",
       "      <td>Parx Men Brown &amp; Off-White Slim Fit Printed Ca...</td>\n",
       "      <td>Parx</td>\n",
       "      <td>Men</td>\n",
       "      <td>759</td>\n",
       "      <td>5</td>\n",
       "      <td>Brown and off-white printed casual shirt, has ...</td>\n",
       "      <td>White</td>\n",
       "      <td>[-0.017746579, 0.0062096375, 0.021813972, 0.02...</td>\n",
       "    </tr>\n",
       "    <tr>\n",
       "      <th>...</th>\n",
       "      <td>...</td>\n",
       "      <td>...</td>\n",
       "      <td>...</td>\n",
       "      <td>...</td>\n",
       "      <td>...</td>\n",
       "      <td>...</td>\n",
       "      <td>...</td>\n",
       "      <td>...</td>\n",
       "      <td>...</td>\n",
       "    </tr>\n",
       "    <tr>\n",
       "      <th>12486</th>\n",
       "      <td>10262843</td>\n",
       "      <td>Pepe Jeans Men Black Hammock Slim Fit Low-Rise...</td>\n",
       "      <td>Pepe Jeans</td>\n",
       "      <td>Men</td>\n",
       "      <td>1299</td>\n",
       "      <td>7</td>\n",
       "      <td>Black dark wash 5-pocket low-rise jeans, clean...</td>\n",
       "      <td>Black</td>\n",
       "      <td>[-0.059190486, 0.042476814, 0.046306282, 0.022...</td>\n",
       "    </tr>\n",
       "    <tr>\n",
       "      <th>12487</th>\n",
       "      <td>10261721</td>\n",
       "      <td>Mochi Women Gold-Toned Solid Heels</td>\n",
       "      <td>Mochi</td>\n",
       "      <td>Women</td>\n",
       "      <td>1990</td>\n",
       "      <td>5</td>\n",
       "      <td>A pair of gold-toned open toe heels, has regul...</td>\n",
       "      <td>Gold</td>\n",
       "      <td>[0.013045174, 0.029754499, -0.0077259596, 0.04...</td>\n",
       "    </tr>\n",
       "    <tr>\n",
       "      <th>12488</th>\n",
       "      <td>10261607</td>\n",
       "      <td>612 league Girls Navy Blue &amp; White Printed Reg...</td>\n",
       "      <td>612 league</td>\n",
       "      <td>Girls</td>\n",
       "      <td>602</td>\n",
       "      <td>4</td>\n",
       "      <td>Navy Blue and White printed mid-rise denim sho...</td>\n",
       "      <td>Blue</td>\n",
       "      <td>[-0.039891727, 0.04082592, 0.04015931, -0.0236...</td>\n",
       "    </tr>\n",
       "    <tr>\n",
       "      <th>12489</th>\n",
       "      <td>10266621</td>\n",
       "      <td>Bvlgari Men Aqva Pour Homme Marine Eau de Toil...</td>\n",
       "      <td>Bvlgari</td>\n",
       "      <td>Men</td>\n",
       "      <td>8950</td>\n",
       "      <td>2</td>\n",
       "      <td>Bvlgari Men Aqva Pour Homme Marine Eau de Toil...</td>\n",
       "      <td>None</td>\n",
       "      <td>[0.020437378, -0.01463924, 0.0041758977, -0.03...</td>\n",
       "    </tr>\n",
       "    <tr>\n",
       "      <th>12490</th>\n",
       "      <td>10265199</td>\n",
       "      <td>Pepe Jeans Men Black &amp; Grey Striped Polo Colla...</td>\n",
       "      <td>Pepe Jeans</td>\n",
       "      <td>Men</td>\n",
       "      <td>799</td>\n",
       "      <td>5</td>\n",
       "      <td>Black and grey striped T-shirt, has a polo col...</td>\n",
       "      <td>Black</td>\n",
       "      <td>[0.0065121516, 0.007008399, -0.0008644293, 0.0...</td>\n",
       "    </tr>\n",
       "  </tbody>\n",
       "</table>\n",
       "<p>12491 rows × 9 columns</p>\n",
       "</div>"
      ],
      "text/plain": [
       "       ProductID                                        ProductName  \\\n",
       "0       10017413  DKNY Unisex Black & Grey Printed Medium Trolle...   \n",
       "1       10016283  EthnoVogue Women Beige & Grey Made to Measure ...   \n",
       "2       10009781  SPYKAR Women Pink Alexa Super Skinny Fit High-...   \n",
       "3       10015921  Raymond Men Blue Self-Design Single-Breasted B...   \n",
       "4       10017833  Parx Men Brown & Off-White Slim Fit Printed Ca...   \n",
       "...          ...                                                ...   \n",
       "12486   10262843  Pepe Jeans Men Black Hammock Slim Fit Low-Rise...   \n",
       "12487   10261721                 Mochi Women Gold-Toned Solid Heels   \n",
       "12488   10261607  612 league Girls Navy Blue & White Printed Reg...   \n",
       "12489   10266621  Bvlgari Men Aqva Pour Homme Marine Eau de Toil...   \n",
       "12490   10265199  Pepe Jeans Men Black & Grey Striped Polo Colla...   \n",
       "\n",
       "      ProductBrand  Gender  Price (INR)  NumImages  \\\n",
       "0             DKNY  Unisex        11745          7   \n",
       "1       EthnoVogue   Women         5810          7   \n",
       "2           SPYKAR   Women          899          7   \n",
       "3          Raymond     Men         5599          5   \n",
       "4             Parx     Men          759          5   \n",
       "...            ...     ...          ...        ...   \n",
       "12486   Pepe Jeans     Men         1299          7   \n",
       "12487        Mochi   Women         1990          5   \n",
       "12488   612 league   Girls          602          4   \n",
       "12489      Bvlgari     Men         8950          2   \n",
       "12490   Pepe Jeans     Men          799          5   \n",
       "\n",
       "                                             Description PrimaryColor  \\\n",
       "0      Black and grey printed medium trolley bag, sec...        Black   \n",
       "1      Beige & Grey made to measure kurta with churid...        Beige   \n",
       "2      Pink coloured wash 5-pocket high-rise cropped ...         Pink   \n",
       "3      Blue self-design bandhgala suitBlue self-desig...         Blue   \n",
       "4      Brown and off-white printed casual shirt, has ...        White   \n",
       "...                                                  ...          ...   \n",
       "12486  Black dark wash 5-pocket low-rise jeans, clean...        Black   \n",
       "12487  A pair of gold-toned open toe heels, has regul...         Gold   \n",
       "12488  Navy Blue and White printed mid-rise denim sho...         Blue   \n",
       "12489  Bvlgari Men Aqva Pour Homme Marine Eau de Toil...         None   \n",
       "12490  Black and grey striped T-shirt, has a polo col...        Black   \n",
       "\n",
       "                                       VectorDescription  \n",
       "0      [0.027645895, -0.0026341735, -0.00358841, 0.05...  \n",
       "1      [-0.02466071, -0.028755346, -0.0203325, 0.0340...  \n",
       "2      [-0.046943247, 0.081827976, 0.048335172, -0.00...  \n",
       "3      [-0.015098725, -0.010285386, 0.0094872955, -0....  \n",
       "4      [-0.017746579, 0.0062096375, 0.021813972, 0.02...  \n",
       "...                                                  ...  \n",
       "12486  [-0.059190486, 0.042476814, 0.046306282, 0.022...  \n",
       "12487  [0.013045174, 0.029754499, -0.0077259596, 0.04...  \n",
       "12488  [-0.039891727, 0.04082592, 0.04015931, -0.0236...  \n",
       "12489  [0.020437378, -0.01463924, 0.0041758977, -0.03...  \n",
       "12490  [0.0065121516, 0.007008399, -0.0008644293, 0.0...  \n",
       "\n",
       "[12491 rows x 9 columns]"
      ]
     },
     "execution_count": 29,
     "metadata": {},
     "output_type": "execute_result"
    }
   ],
   "source": [
    "df"
   ]
  },
  {
   "cell_type": "code",
   "execution_count": 25,
   "metadata": {},
   "outputs": [],
   "source": []
  },
  {
   "cell_type": "code",
   "execution_count": 9,
   "metadata": {},
   "outputs": [],
   "source": [
    "from IndexMapping import mapping"
   ]
  },
  {
   "cell_type": "code",
   "execution_count": 31,
   "metadata": {},
   "outputs": [
    {
     "data": {
      "text/plain": [
       "ObjectApiResponse({'acknowledged': True, 'shards_acknowledged': True, 'index': 'clothing'})"
      ]
     },
     "execution_count": 31,
     "metadata": {},
     "output_type": "execute_result"
    }
   ],
   "source": [
    "elastics.indices.create(index=\"clothing\", mappings=mapping)"
   ]
  },
  {
   "cell_type": "code",
   "execution_count": 32,
   "metadata": {},
   "outputs": [],
   "source": [
    "record_list = df.to_dict('records')"
   ]
  },
  {
   "cell_type": "code",
   "execution_count": 33,
   "metadata": {},
   "outputs": [],
   "source": [
    "for record in record_list:\n",
    "    elastics.index(index='clothing', document = record, id=record[\"ProductID\"])"
   ]
  },
  {
   "cell_type": "code",
   "execution_count": 34,
   "metadata": {},
   "outputs": [
    {
     "data": {
      "text/plain": [
       "ObjectApiResponse({'count': 12491, '_shards': {'total': 1, 'successful': 1, 'skipped': 0, 'failed': 0}})"
      ]
     },
     "execution_count": 34,
     "metadata": {},
     "output_type": "execute_result"
    }
   ],
   "source": [
    "elastics.count(index=\"clothing\")"
   ]
  },
  {
   "cell_type": "code",
   "execution_count": 37,
   "metadata": {},
   "outputs": [
    {
     "name": "stderr",
     "output_type": "stream",
     "text": [
      "C:\\Users\\hp\\AppData\\Local\\Temp\\ipykernel_18376\\173498920.py:11: ElasticsearchWarning: The kNN search API has been replaced by the `knn` option in the search API.\n",
      "  result= elastics.knn_search(index='clothing',knn=query, source=[\"ProductName\", \"Description\"])\n"
     ]
    },
    {
     "data": {
      "text/plain": [
       "[{'_index': 'clothing',\n",
       "  '_id': '10018929',\n",
       "  '_score': 0.40495986,\n",
       "  '_ignored': ['Description.keyword'],\n",
       "  '_source': {'ProductName': 'ExclusiveLane Brown Wall Mounted Wooden Hand Carving Key Holder',\n",
       "   'Description': 'Set Content: One keyholderColour: BrownPattern: OwlType: Wall-mounted keyholderFEATURES:- Perfect to organize all your keys at one place.\\xa0- Can hold up to 6 keys.- Acts as a wall decor & enhances the beauty of your wall.- The key holder is hand carved in wood depicting owl motif.- Hand Carved in Sheesham Wood.- The product has been made by hand and may have slight irregularities that are a natural outcome of the human involvement in the process.- Comes in dark brown color.'}},\n",
       " {'_index': 'clothing',\n",
       "  '_id': '10018927',\n",
       "  '_score': 0.39929065,\n",
       "  '_ignored': ['Description.keyword'],\n",
       "  '_source': {'ProductName': 'ExclusiveLane Dark Brown Handmade Sheesham Wood Block Shelf With Magnetic Key Holder',\n",
       "   'Description': 'Set Content: One keyholderColour: Dark BrownPattern: OwlType: Shelf with magnetic keyholderFEATURES:- Perfect to organize all your keys at one place.\\xa0- Can hold up to 6 keys.- Acts as a wall decor & enhances the beauty of your wall.- The key holder is hand carved in wood depicting owl motif.- Hand Carved in Sheesham Wood.- The product has been made by hand and may have slight irregularities that are a natural outcome of the human involvement in the process.'}}]"
      ]
     },
     "execution_count": 37,
     "metadata": {},
     "output_type": "execute_result"
    }
   ],
   "source": [
    "input_keyword = \"Blue shoes\"\n",
    "embedding = model.encode(\"input_keyword\")\n",
    "\n",
    "query = {\n",
    "    \"field\": \"VectorDescription\",\n",
    "    \"query_vector\": embedding,\n",
    "    \"k\":2,\n",
    "    \"num_candidates\" : 500\n",
    "}\n",
    "\n",
    "result= elastics.knn_search(index='clothing',knn=query, source=[\"ProductName\", \"Description\"])\n",
    "result[\"hits\"][\"hits\"]"
   ]
  }
 ],
 "metadata": {
  "kernelspec": {
   "display_name": "helpful",
   "language": "python",
   "name": "python3"
  },
  "language_info": {
   "codemirror_mode": {
    "name": "ipython",
    "version": 3
   },
   "file_extension": ".py",
   "mimetype": "text/x-python",
   "name": "python",
   "nbconvert_exporter": "python",
   "pygments_lexer": "ipython3",
   "version": "3.12.6"
  }
 },
 "nbformat": 4,
 "nbformat_minor": 2
}
